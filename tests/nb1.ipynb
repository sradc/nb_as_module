{
    "cells": [
        {
            "cell_type": "markdown",
            "id": "wireless-manchester",
            "metadata": {},
            "source": ["<!--docstring-->\n", "Here is my docstring."]
        },
        {
            "cell_type": "code",
            "execution_count": 4,
            "id": "revised-translator",
            "metadata": {},
            "outputs": [],
            "source": [
                "\n",
                "def hello():\n",
                "    print('Hello, world.')\n",
                "\n",
                "class TestClass:\n",
                "    def __call__(self):\n",
                "        print(f'Hello from TestClass.')\n",
                "    "
            ]
        },
        {
            "cell_type": "code",
            "execution_count": 5,
            "id": "ahead-colon",
            "metadata": {},
            "outputs": [
                {"name": "stdout", "output_type": "stream", "text": ["Hello, world.\n"]}
            ],
            "source": ["hello()"]
        },
        {
            "cell_type": "code",
            "execution_count": 8,
            "id": "molecular-tracker",
            "metadata": {},
            "outputs": [
                {
                    "name": "stdout",
                    "output_type": "stream",
                    "text": ["Hello from <__main__.Test object at 0x7fc020b3aa58>\n"]
                }
            ],
            "source": ["test_instance = TestClass()\n", "test_instance()"]
        }
    ],
    "metadata": {
        "kernelspec": {
            "display_name": "Python [conda env:root] *",
            "language": "python",
            "name": "conda-root-py"
        },
        "language_info": {
            "codemirror_mode": {"name": "ipython", "version": 3},
            "file_extension": ".py",
            "mimetype": "text/x-python",
            "name": "python",
            "nbconvert_exporter": "python",
            "pygments_lexer": "ipython3",
            "version": "3.7.3"
        }
    },
    "nbformat": 4,
    "nbformat_minor": 5
}
